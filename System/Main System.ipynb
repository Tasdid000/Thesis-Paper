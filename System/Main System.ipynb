{
 "cells": [
  {
   "cell_type": "code",
   "execution_count": 6,
   "metadata": {},
   "outputs": [],
   "source": []
  },
  {
   "cell_type": "code",
   "execution_count": 7,
   "metadata": {},
   "outputs": [
    {
     "name": "stdout",
     "output_type": "stream",
     "text": [
      "WARNING:tensorflow:From i:\\WAF with mechine learning\\venv\\lib\\site-packages\\keras\\src\\backend.py:1398: The name tf.executing_eagerly_outside_functions is deprecated. Please use tf.compat.v1.executing_eagerly_outside_functions instead.\n"
     ]
    },
    {
     "name": "stderr",
     "output_type": "stream",
     "text": [
      "i:\\WAF with mechine learning\\venv\\lib\\site-packages\\sklearn\\base.py:493: UserWarning: X does not have valid feature names, but StandardScaler was fitted with feature names\n",
      "  warnings.warn(\n"
     ]
    },
    {
     "name": "stdout",
     "output_type": "stream",
     "text": [
      "153501/153501 [==============================] - 360s 2ms/step\n",
      "DDoS predictions: [[1]\n",
      " [1]\n",
      " [1]\n",
      " ...\n",
      " [1]\n",
      " [1]\n",
      " [1]]\n"
     ]
    }
   ],
   "source": [
    "import joblib\n",
    "import numpy as np\n",
    "from tensorflow.keras.models import load_model\n",
    "\n",
    "# Load pre-trained models\n",
    "ddos_detection_model = load_model('I:/WAF with mechine learning/DDos/CNN model for DDOS.h5')\n",
    "# sql_xss_detection_model = load_model('sql_xss_detection_model.h5')\n",
    "\n",
    "# Load preprocessing objects if needed\n",
    "# For example, if you used StandardScaler during training\n",
    "ss_ddos = joblib.load('I:/WAF with mechine learning/DDos/dods_standard_scaler.pkl')\n",
    "# ss_sql_xss = joblib.load('standard_scaler_sql_xss.pkl')\n",
    "\n",
    "# Load your new dataset\n",
    "# Replace 'new_data.csv' with the path to your new dataset file\n",
    "new_data = np.loadtxt('I:/WAF with mechine learning/Dataset/DDos 2019 cic/01-12/DrDoS_DNSfinal.csv', delimiter=',', skiprows=1)\n",
    "\n",
    "# Preprocess the new dataset\n",
    "# Apply the same preprocessing steps used during training\n",
    "# For example, normalization using the StandardScaler\n",
    "new_data_ddos_std = ss_ddos.transform(new_data[:, :20])\n",
    "# new_data_sql_xss_std = ss_sql_xss.transform(new_data[:, 7:])\n",
    "\n",
    "# Perform predictions for DDoS detection\n",
    "ddos_predictions = (ddos_detection_model.predict(new_data_ddos_std) > 0.5).astype(\"int64\")\n",
    "\n",
    "# Perform predictions for SQL injection and XSS detection\n",
    "# sql_xss_predictions = (sql_xss_detection_model.predict(new_data_sql_xss_std) > 0.5).astype(\"int64\")\n",
    "\n",
    "print(\"DDoS predictions:\", ddos_predictions)\n",
    "# print(\"SQL injection and XSS predictions:\", sql_xss_predictions)\n"
   ]
  },
  {
   "cell_type": "code",
   "execution_count": 8,
   "metadata": {},
   "outputs": [
    {
     "name": "stdout",
     "output_type": "stream",
     "text": [
      "Percentage of DDoS predictions: 99.93192208743493 %\n"
     ]
    }
   ],
   "source": [
    "ddos_percentage = np.mean(ddos_predictions) * 100\n",
    "print(\"Percentage of DDoS predictions:\", ddos_percentage, \"%\")"
   ]
  },
  {
   "cell_type": "code",
   "execution_count": 5,
   "metadata": {},
   "outputs": [
    {
     "name": "stdout",
     "output_type": "stream",
     "text": [
      "Index(['Flow ID', 'Source IP', 'Source Port', 'Destination IP',\n",
      "       'Destination Port', 'Protocol', 'Timestamp', 'Flow Duration',\n",
      "       'Total Fwd Packets', 'Total Backward Packets',\n",
      "       'Total Length of Fwd Packets', 'Total Length of Bwd Packets',\n",
      "       'Fwd Packet Length Max', 'Fwd Packet Length Min',\n",
      "       'Fwd Packet Length Mean', 'Fwd Packet Length Std',\n",
      "       'Bwd Packet Length Max', 'Bwd Packet Length Min',\n",
      "       'Bwd Packet Length Mean', 'Bwd Packet Length Std', 'Flow Bytes/s',\n",
      "       'Flow Packets/s', 'Flow IAT Mean', 'Flow IAT Std', 'Flow IAT Max',\n",
      "       'Flow IAT Min', 'Fwd IAT Total', 'Fwd IAT Mean', 'Fwd IAT Std',\n",
      "       'Fwd IAT Max', 'Fwd IAT Min', 'Bwd IAT Total', 'Bwd IAT Mean',\n",
      "       'Bwd IAT Std', 'Bwd IAT Max', 'Bwd IAT Min', 'Fwd PSH Flags',\n",
      "       'Bwd PSH Flags', 'Fwd URG Flags', 'Bwd URG Flags', 'Fwd Header Length',\n",
      "       'Bwd Header Length', 'Fwd Packets/s', 'Bwd Packets/s',\n",
      "       'Min Packet Length', 'Max Packet Length', 'Packet Length Mean',\n",
      "       'Packet Length Std', 'Packet Length Variance', 'FIN Flag Count',\n",
      "       'SYN Flag Count', 'RST Flag Count', 'PSH Flag Count', 'ACK Flag Count',\n",
      "       'URG Flag Count', 'CWE Flag Count', 'ECE Flag Count', 'Down/Up Ratio',\n",
      "       'Average Packet Size', 'Avg Fwd Segment Size', 'Avg Bwd Segment Size',\n",
      "       'Fwd Header Length.1', 'Fwd Avg Bytes/Bulk', 'Fwd Avg Packets/Bulk',\n",
      "       'Fwd Avg Bulk Rate', 'Bwd Avg Bytes/Bulk', 'Bwd Avg Packets/Bulk',\n",
      "       'Bwd Avg Bulk Rate', 'Subflow Fwd Packets', 'Subflow Fwd Bytes',\n",
      "       'Subflow Bwd Packets', 'Subflow Bwd Bytes', 'Init_Win_bytes_forward',\n",
      "       'Init_Win_bytes_backward', 'act_data_pkt_fwd', 'min_seg_size_forward',\n",
      "       'Active Mean', 'Active Std', 'Active Max', 'Active Min', 'Idle Mean',\n",
      "       'Idle Std', 'Idle Max', 'Idle Min', 'Inbound', 'Label'],\n",
      "      dtype='object')\n"
     ]
    }
   ],
   "source": [
    "import pandas as pd\n",
    "true_labels = pd.read_csv('I:/WAF with mechine learning/Dataset/DDos 2019 cic/01-12/DrDoS_DNSfinal.csv', delimiter=',',)\n",
    "\n",
    "print(true_labels.columns)\n"
   ]
  },
  {
   "cell_type": "code",
   "execution_count": 6,
   "metadata": {},
   "outputs": [
    {
     "data": {
      "image/png": "[encoded data removed]",
      "text/plain": [
       "<Figure size 640x480 with 2 Axes>"
      ]
     },
     "metadata": {},
     "output_type": "display_data"
    }
   ],
   "source": [
    "from matplotlib import pyplot as plt\n",
    "from sklearn.metrics import confusion_matrix\n",
    "import seaborn as sns\n",
    "\n",
    "# Assuming the label column is named 'Label', change it if it has a different name\n",
    "y_true_ddos = true_labels['Label'].values\n",
    "\n",
    "conf_matrix = confusion_matrix(y_true_ddos, ddos_predictions)\n",
    "\n",
    "# Plot confusion matrix\n",
    "sns.heatmap(conf_matrix, annot=True, fmt='d', cmap='Blues')\n",
    "plt.xlabel('Predicted')\n",
    "plt.ylabel('True')\n",
    "plt.title('Confusion Matrix')\n",
    "plt.show()\n"
   ]
  },
  {
   "cell_type": "code",
   "execution_count": 1,
   "metadata": {},
   "outputs": [
    {
     "name": "stdout",
     "output_type": "stream",
     "text": [
      "WARNING:tensorflow:From i:\\WAF with mechine learning\\venv\\lib\\site-packages\\keras\\src\\losses.py:2976: The name tf.losses.sparse_softmax_cross_entropy is deprecated. Please use tf.compat.v1.losses.sparse_softmax_cross_entropy instead.\n",
      "\n",
      "WARNING:tensorflow:From i:\\WAF with mechine learning\\venv\\lib\\site-packages\\keras\\src\\backend.py:1398: The name tf.executing_eagerly_outside_functions is deprecated. Please use tf.compat.v1.executing_eagerly_outside_functions instead.\n",
      "\n",
      "WARNING:tensorflow:From i:\\WAF with mechine learning\\venv\\lib\\site-packages\\keras\\src\\backend.py:6642: The name tf.nn.max_pool is deprecated. Please use tf.nn.max_pool2d instead.\n"
     ]
    },
    {
     "name": "stderr",
     "output_type": "stream",
     "text": [
      "i:\\WAF with mechine learning\\venv\\lib\\site-packages\\sklearn\\base.py:493: UserWarning: X does not have valid feature names, but StandardScaler was fitted with feature names\n",
      "  warnings.warn(\n",
      "i:\\WAF with mechine learning\\venv\\lib\\site-packages\\sklearn\\base.py:493: UserWarning: X does not have valid feature names, but StandardScaler was fitted with feature names\n",
      "  warnings.warn(\n"
     ]
    },
    {
     "name": "stdout",
     "output_type": "stream",
     "text": [
      "155409/155409 [==============================] - 291s 2ms/step\n",
      "No data available for SQL injection and XSS detection.\n"
     ]
    }
   ],
   "source": [
    "\n",
    "import joblib\n",
    "\n",
    "class DDoSDetection:\n",
    "    def __init__(self, model, scaler):\n",
    "        self.model = model\n",
    "        self.scaler = scaler\n",
    "\n",
    "    def predict(self, data):\n",
    "        scaled_data = self.scaler.transform(data)\n",
    "        predictions = (self.model.predict(scaled_data) > 0.5).astype(\"int64\")\n",
    "        return predictions\n",
    "\n",
    "class SQLXSSDetection:\n",
    "    def __init__(self, model):\n",
    "        self.model = model\n",
    "\n",
    "    def predict(self, data):\n",
    "        predictions = (self.model.predict(data) > 0.5).astype(\"int64\")\n",
    "        return predictions\n",
    "\n",
    "def main():\n",
    "    # Load DDoS detection model and scaler\n",
    "    ddos_detection_model = load_model('I:/WAF with mechine learning/DDos/CNN model for DDOS.h5')\n",
    "    ss_ddos = joblib.load('I:/WAF with mechine learning/DDos/dods_standard_scaler.pkl')\n",
    "    \n",
    "    # Load SQL injection and XSS detection model\n",
    "    sql_xss_detection_model = load_model('I:/WAF with mechine learning/SQL and XSS/CNN_model_for_XSS_and_SQL_injection.h5')\n",
    "\n",
    "    # Initialize DDoS detection layer\n",
    "    ddos_detector = DDoSDetection(ddos_detection_model, ss_ddos)\n",
    "\n",
    "    # Initialize SQL injection and XSS detection layer\n",
    "    sql_xss_detector = SQLXSSDetection(sql_xss_detection_model)\n",
    "\n",
    "    # Load your new dataset\n",
    "    new_data = np.loadtxt('I:/WAF with mechine learning/Dataset/combined.csv', delimiter=',', skiprows=1)\n",
    "\n",
    "    # Preprocess the new dataset\n",
    "    new_data_ddos_std = ddos_detector.scaler.transform(new_data[:, :20])\n",
    "\n",
    "    # First Layer: DDoS Detection\n",
    "    ddos_predictions = ddos_detector.predict(new_data_ddos_std)\n",
    "\n",
    "    # Filter out DDoS predicted data\n",
    "    new_data_filtered = new_data[np.where(ddos_predictions == 0)]\n",
    "\n",
    "    # Check if new_data_filtered is 1-dimensional or empty\n",
    "    if new_data_filtered.ndim == 1 or len(new_data_filtered) == 0:\n",
    "        print(\"No data available for SQL injection and XSS detection.\")\n",
    "        return\n",
    "\n",
    "    # Second Layer: SQL injection and XSS Detection\n",
    "    sql_xss_predictions = sql_xss_detector.predict(new_data_filtered[:, 7:])  # Assuming column indices for SQL injection and XSS features\n",
    "\n",
    "    print(\"DDoS predictions:\", ddos_predictions)\n",
    "    print(\"SQL injection and XSS predictions:\", sql_xss_predictions)\n",
    "\n",
    "if __name__ == \"__main__\":\n",
    "    main()\n"
   ]
  },
  {
   "cell_type": "code",
   "execution_count": 1,
   "metadata": {
    "ExecuteTime": {
     "end_time": "2024-03-24T17:32:38.096283Z",
     "start_time": "2024-03-24T17:32:38.090427Z"
    },
    "collapsed": false
   },
   "outputs": [],
   "source": [
    "import os\n",
    "\n",
    "# Replace 'proxy_address' and 'proxy_port' with the actual address and port of your proxy server\n",
    "proxy_address = '192.168.1.5'\n",
    "proxy_port = '8000'\n",
    "\n",
    "# Set environment variables for HTTP and HTTPS proxies\n",
    "http_proxy=os.environ['http_proxy'] = f\"http://{proxy_address}:{proxy_port}\"\n",
    "https_proxy=os.environ['https_proxy'] = f\"http://{proxy_address}:{proxy_port}\"\n"
   ]
  },
  {
   "cell_type": "code",
   "execution_count": 2,
   "metadata": {
    "ExecuteTime": {
     "end_time": "2024-03-24T17:32:39.303719Z",
     "start_time": "2024-03-24T17:32:39.297886Z"
    },
    "collapsed": false
   },
   "outputs": [
    {
     "name": "stdout",
     "output_type": "stream",
     "text": [
      "http://192.168.1.5:8000\n",
      "http://192.168.1.5:8000\n"
     ]
    }
   ],
   "source": [
    "print(http_proxy)\n",
    "print(http_proxy)"
   ]
  },
  {
   "cell_type": "code",
   "execution_count": null,
   "metadata": {
    "ExecuteTime": {
     "end_time": "2024-03-24T16:37:42.083388Z",
     "start_time": "2024-03-24T16:37:13.690406Z"
    }
   },
   "outputs": [],
   "source": [
    "\n",
    "import numpy as np\n",
    "import pickle\n",
    "from tensorflow.keras.models import load_model\n",
    "\n",
    "# Load DDoS detection model\n",
    "ddos_detection_model_path = 'I:/WAF with mechine learning/DDos/CNN model for DDOS.h5'\n",
    "ddos_model = load_model(ddos_detection_model_path)\n",
    "\n",
    "# Load standard scaler for DDoS detection\n",
    "ss_ddos_path = 'I:/WAF with mechine learning/DDos/dods_standard_scaler.pkl'\n",
    "with open(ss_ddos_path, 'rb') as file:\n",
    "    ss_ddos = pickle.load(file)\n",
    "\n",
    "# Load SQL injection and XSS detection model\n",
    "sql_xss_detection_model_path = 'I:/WAF with mechine learning/SQL and XSS/CNN_model_for_XSS_and_SQL_injection.h5'\n",
    "sql_xss_model = load_model(sql_xss_detection_model_path)\n",
    "\n",
    "# Function to preprocess data using the loaded standard scaler\n",
    "def preprocess_data(data, scaler):\n",
    "    return scaler.transform(data)\n",
    "\n",
    "# Function for first layer (DDoS) detection\n",
    "def first_layer_detection(features):\n",
    "    predictions = ddos_model.predict(features)\n",
    "    return predictions\n",
    "\n",
    "# Function for second layer (XSS and SQL injection) detection\n",
    "def second_layer_detection(features):\n",
    "    predictions = sql_xss_model.predict(features)\n",
    "    return predictions\n",
    "\n",
    "# Main function to handle incoming HTTP traffic from the proxy\n",
    "def handle_http_traffic(proxy_host, proxy_port):\n",
    "    with socket.socket(socket.AF_INET, socket.SOCK_STREAM) as proxy_socket:\n",
    "        proxy_socket.connect((proxy_host, proxy_port))\n",
    "        \n",
    "        while True:\n",
    "            # Receive live traffic data from the proxy\n",
    "            data = proxy_socket.recv(1024)  # Adjust buffer size as needed\n",
    "            \n",
    "            # Preprocess traffic data using standard scaler for DDoS detection\n",
    "            preprocessed_data = preprocess_data(data, ss_ddos)\n",
    "            \n",
    "            # First layer detection (DDoS)\n",
    "            ddos_predictions = first_layer_detection(preprocessed_data)\n",
    "            \n",
    "            # Second layer detection (XSS and SQL injection)\n",
    "            filtered_data = [data[i] for i in range(len(data)) if ddos_predictions[i] == 0]\n",
    "            xss_sql_predictions = second_layer_detection(filtered_data)\n",
    "            \n",
    "            # Route only correctly classified traffic to the web server\n",
    "            for i in range(len(filtered_data)):\n",
    "                if xss_sql_predictions[i] == 0:\n",
    "                    route_to_web_server(filtered_data[i])\n",
    "\n",
    "# Function to route traffic to the web server\n",
    "def route_to_web_server(packet):\n",
    "    # Code to forward packet to the web server\n",
    "    pass\n",
    "\n",
    "# Example usage\n",
    "proxy_host = 'loaclhost'\n",
    "proxy_port = 3000\n",
    "handle_http_traffic(proxy_host, proxy_port)\n"
   ]
  },
  {
   "cell_type": "code",
   "execution_count": null,
   "metadata": {},
   "outputs": [],
   "source": [
    "from sklearn.metrics import accuracy_score\n",
    "\n",
    "# Assuming ddos_predictions is the array of DDoS predictions\n",
    "# Assuming true_labels is the array of true labels for the dataset\n",
    "ddos_accuracy = accuracy_score(true_labels, ddos_predictions)\n",
    "print(\"Accuracy for DDoS predictions:\", ddos_accuracy)\n"
   ]
  },
  {
   "cell_type": "code",
   "execution_count": null,
   "metadata": {
    "ExecuteTime": {
     "start_time": "2024-03-28T05:56:54.540630Z"
    },
    "collapsed": false,
    "is_executing": true
   },
   "outputs": [
    {
     "name": "stdout",
     "output_type": "stream",
     "text": [
      "Proxy server listening on localhost:3000\n",
      "Connection from ('127.0.0.1', 7904)\n",
      "Connection from ('127.0.0.1', 7905)\n",
      "Connection from ('127.0.0.1', 7906)\n",
      "Connection from ('127.0.0.1', 7907)\n",
      "Connection from ('127.0.0.1', 7908)\n",
      "Connection from ('127.0.0.1', 7909)\n",
      "Connection from ('127.0.0.1', 7910)\n",
      "Connection from ('127.0.0.1', 7949)\n",
      "Connection from ('127.0.0.1', 8945)\n",
      "Connection from ('127.0.0.1', 8949)\n",
      "Connection from ('127.0.0.1', 8951)\n",
      "Connection from ('127.0.0.1', 6998)\n"
     ]
    }
   ],
   "source": [
    "\n",
    "\n",
    "# Global counters to track the number of requests\n",
    "total_requests = 0\n",
    "passed_first_layer = 0\n",
    "passed_second_layer = 0\n",
    "\n",
    "def capture_packets(proxy_host, proxy_port):\n",
    "    global total_requests\n",
    "    global passed_first_layer\n",
    "    global passed_second_layer\n",
    "    \n",
    "    with socket.socket(socket.AF_INET, socket.SOCK_STREAM) as proxy_socket:\n",
    "        proxy_socket.bind((proxy_host, proxy_port))\n",
    "        proxy_socket.listen()\n",
    "        print(f\"Proxy server listening on {proxy_host}:{proxy_port}\")\n",
    "        \n",
    "        while True:\n",
    "            client_socket, client_address = proxy_socket.accept()\n",
    "            print(f\"Connection from {client_address}\")\n",
    "            packet_data = b\"\"\n",
    "            while True:\n",
    "                chunk = client_socket.recv(1024)\n",
    "                if not chunk:\n",
    "                    break\n",
    "                packet_data += chunk\n",
    "            total_requests += 1\n",
    "            # Process packet data to extract features\n",
    "            features = parse_packet_data(packet_data)\n",
    "            # Perform further analysis or send features to the Packet Analyzer Module\n",
    "            if analyze_packet(features):\n",
    "                passed_first_layer += 1\n",
    "                if analyze_second_layer(features):\n",
    "                    passed_second_layer += 1\n",
    "                    route_to_web_server(packet_data)\n",
    "\n",
    "def parse_packet_data(packet_data):\n",
    "    # Convert packet data to a string\n",
    "    packet_str = packet_data.decode('utf-8', errors='ignore')\n",
    "    \n",
    "    # Split the packet data by '\\r\\n' to separate headers\n",
    "    headers = packet_str.split('\\r\\n')\n",
    "    \n",
    "    # Create a dictionary to store parsed features\n",
    "    features = {}\n",
    "    \n",
    "    # Extract relevant features from HTTP headers\n",
    "    for header in headers:\n",
    "        if ':' in header:\n",
    "            key, value = header.split(':', 1)\n",
    "            features[key.strip()] = value.strip()\n",
    "    \n",
    "    return features\n",
    "\n",
    "def analyze_packet(features):\n",
    "    # Placeholder implementation for analyzing packet features in the first layer\n",
    "    # Return True if the packet passes the first layer analysis, otherwise False\n",
    "    # Example: return packet_analyzer.analyze(features)\n",
    "    return True\n",
    "\n",
    "def analyze_second_layer(features):\n",
    "    # Placeholder implementation for analyzing packet features in the second layer\n",
    "    # Return True if the packet passes the second layer analysis, otherwise False\n",
    "    # Example: return packet_analyzer.analyze(features)\n",
    "    return True\n",
    "\n",
    "def route_to_web_server(packet_data):\n",
    "    # Placeholder implementation for routing the packet to the web server\n",
    "    # You can implement the logic to forward the packet to the web server\n",
    "    pass\n",
    "\n",
    "# Example usage\n",
    "proxy_host = 'localhost'\n",
    "proxy_port = 3000\n",
    "capture_packets(proxy_host, proxy_port)\n",
    "\n",
    "# Print the summary\n",
    "print(\"Total requests:\", total_requests)\n",
    "print(\"Requests passed first layer:\", passed_first_layer)\n",
    "print(\"Requests passed second layer:\", passed_second_layer)\n"
   ]
  },
  {
   "cell_type": "code",
   "execution_count": 1,
   "metadata": {
    "ExecuteTime": {
     "start_time": "2024-04-10T06:41:56.717964Z"
    },
    "collapsed": false,
    "is_executing": true,
    "jupyter": {
     "is_executing": true
    }
   },
   "outputs": [
    {
     "name": "stdout",
     "output_type": "stream",
     "text": [
      "Proxy server listening on localhost:8080\n",
      "Connection from ('127.0.0.1', 14750)\n",
      "Connection from ('127.0.0.1', 14751)\n",
      "Connection from ('127.0.0.1', 14752)\n",
      "Connection from ('127.0.0.1', 14753)\n",
      "Connection from ('127.0.0.1', 14765)\n"
     ]
    }
   ],
   "source": [
    "import socket\n",
    "\n",
    "# Global counters to track the number of requests\n",
    "total_requests = 0\n",
    "passed_first_layer = 0\n",
    "passed_second_layer = 0\n",
    "\n",
    "def capture_packets(proxy_host, proxy_port):\n",
    "    global total_requests\n",
    "    global passed_first_layer\n",
    "    global passed_second_layer\n",
    "    \n",
    "    with socket.socket(socket.AF_INET, socket.SOCK_STREAM) as proxy_socket:\n",
    "        proxy_socket.bind((proxy_host, proxy_port))\n",
    "        proxy_socket.listen()\n",
    "        print(f\"Proxy server listening on {proxy_host}:{proxy_port}\")\n",
    "        \n",
    "        while True:\n",
    "            client_socket, client_address = proxy_socket.accept()\n",
    "            print(f\"Connection from {client_address}\")\n",
    "            packet_data = b\"\"\n",
    "            while True:\n",
    "                chunk = client_socket.recv(1024)\n",
    "                if not chunk:\n",
    "                    break\n",
    "                packet_data += chunk\n",
    "            total_requests += 1\n",
    "            # Process packet data to extract features\n",
    "            features = parse_packet_data(packet_data)\n",
    "            # Perform further analysis or send features to the Packet Analyzer Module\n",
    "            if analyze_packet(features):\n",
    "                passed_first_layer += 1\n",
    "                if analyze_second_layer(features):\n",
    "                    passed_second_layer += 1\n",
    "                    route_to_web_server(packet_data)\n",
    "\n",
    "def parse_packet_data(packet_data):\n",
    "    # Convert packet data to a string\n",
    "    packet_str = packet_data.decode('utf-8', errors='ignore')\n",
    "    \n",
    "    # Split the packet data by '\\r\\n' to separate headers\n",
    "    headers = packet_str.split('\\r\\n')\n",
    "    \n",
    "    # Create a dictionary to store parsed features\n",
    "    features = {}\n",
    "    \n",
    "    # Extract relevant features from HTTP headers\n",
    "    for header in headers:\n",
    "        if ':' in header:\n",
    "            key, value = header.split(':', 1)\n",
    "            features[key.strip()] = value.strip()\n",
    "    \n",
    "    return features\n",
    "\n",
    "def analyze_packet(features):\n",
    "    # Placeholder implementation for analyzing packet features in the first layer\n",
    "    # Return True if the packet passes the first layer analysis, otherwise False\n",
    "    # Example: return packet_analyzer.analyze(features)\n",
    "    return True\n",
    "\n",
    "def analyze_second_layer(features):\n",
    "    # Placeholder implementation for analyzing packet features in the second layer\n",
    "    # Return True if the packet passes the second layer analysis, otherwise False\n",
    "    # Example: return packet_analyzer.analyze(features)\n",
    "    return True\n",
    "\n",
    "def route_to_web_server(packet_data):\n",
    "    # Placeholder implementation for routing the packet to the web server\n",
    "    # You can implement the logic to forward the packet to the web server\n",
    "    pass\n",
    "\n",
    "# Example usage\n",
    "proxy_host = 'localhost'\n",
    "proxy_port = 8080\n",
    "capture_packets(proxy_host, proxy_port)\n",
    "\n",
    "# Print the summary\n",
    "print(\"Total requests:\", total_requests)\n",
    "print(\"Requests passed first layer:\", passed_first_layer)\n",
    "print(\"Requests passed second layer:\", passed_second_layer)\n"
   ]
  }
 ],
 "metadata": {
  "kernelspec": {
   "display_name": "venv",
   "language": "python",
   "name": "python3"
  },
  "language_info": {
   "codemirror_mode": {
    "name": "ipython",
    "version": 3
   },
   "file_extension": ".py",
   "mimetype": "text/x-python",
   "name": "python",
   "nbconvert_exporter": "python",
   "pygments_lexer": "ipython3",
   "version": "3.10.11"
  }
 },
 "nbformat": 4,
 "nbformat_minor": 2
}
