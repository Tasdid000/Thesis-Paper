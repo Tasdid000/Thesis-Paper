{
 "cells": [
  {
   "cell_type": "code",
   "execution_count": 1,
   "outputs": [
    {
     "name": "stdout",
     "output_type": "stream",
     "text": [
      "WARNING:tensorflow:From I:\\WAF with mechine learning\\venv\\Lib\\site-packages\\keras\\src\\losses.py:2976: The name tf.losses.sparse_softmax_cross_entropy is deprecated. Please use tf.compat.v1.losses.sparse_softmax_cross_entropy instead.\n",
      "\n",
      "Downloading data from https://www.cs.toronto.edu/~kriz/cifar-10-python.tar.gz\n",
      "170498071/170498071 [==============================] - 151s 1us/step\n",
      "WARNING:tensorflow:From I:\\WAF with mechine learning\\venv\\Lib\\site-packages\\keras\\src\\backend.py:1398: The name tf.executing_eagerly_outside_functions is deprecated. Please use tf.compat.v1.executing_eagerly_outside_functions instead.\n",
      "\n",
      "WARNING:tensorflow:From I:\\WAF with mechine learning\\venv\\Lib\\site-packages\\keras\\src\\layers\\pooling\\max_pooling2d.py:161: The name tf.nn.max_pool is deprecated. Please use tf.nn.max_pool2d instead.\n",
      "\n"
     ]
    },
    {
     "name": "stderr",
     "output_type": "stream",
     "text": [
      "WARNING:absl:`lr` is deprecated in Keras optimizer, please use `learning_rate` or use the legacy optimizer, e.g.,tf.keras.optimizers.legacy.Adam.\n"
     ]
    },
    {
     "name": "stdout",
     "output_type": "stream",
     "text": [
      "Epoch 1/10\n",
      "WARNING:tensorflow:From I:\\WAF with mechine learning\\venv\\Lib\\site-packages\\keras\\src\\utils\\tf_utils.py:492: The name tf.ragged.RaggedTensorValue is deprecated. Please use tf.compat.v1.ragged.RaggedTensorValue instead.\n",
      "\n"
     ]
    },
    {
     "name": "stderr",
     "output_type": "stream",
     "text": [
      "WARNING:tensorflow:From I:\\WAF with mechine learning\\venv\\Lib\\site-packages\\keras\\src\\utils\\tf_utils.py:492: The name tf.ragged.RaggedTensorValue is deprecated. Please use tf.compat.v1.ragged.RaggedTensorValue instead.\n",
      "\n"
     ]
    },
    {
     "name": "stdout",
     "output_type": "stream",
     "text": [
      "WARNING:tensorflow:From I:\\WAF with mechine learning\\venv\\Lib\\site-packages\\keras\\src\\engine\\base_layer_utils.py:384: The name tf.executing_eagerly_outside_functions is deprecated. Please use tf.compat.v1.executing_eagerly_outside_functions instead.\n",
      "\n"
     ]
    },
    {
     "name": "stderr",
     "output_type": "stream",
     "text": [
      "WARNING:tensorflow:From I:\\WAF with mechine learning\\venv\\Lib\\site-packages\\keras\\src\\engine\\base_layer_utils.py:384: The name tf.executing_eagerly_outside_functions is deprecated. Please use tf.compat.v1.executing_eagerly_outside_functions instead.\n",
      "\n"
     ]
    },
    {
     "ename": "InvalidArgumentError",
     "evalue": "Graph execution error:\n\nDetected at node model/sequential/dense/Relu defined at (most recent call last):\n  File \"<frozen runpy>\", line 198, in _run_module_as_main\n\n  File \"<frozen runpy>\", line 88, in _run_code\n\n  File \"I:\\WAF with mechine learning\\venv\\Lib\\site-packages\\ipykernel_launcher.py\", line 18, in <module>\n\n  File \"I:\\WAF with mechine learning\\venv\\Lib\\site-packages\\traitlets\\config\\application.py\", line 1075, in launch_instance\n\n  File \"I:\\WAF with mechine learning\\venv\\Lib\\site-packages\\ipykernel\\kernelapp.py\", line 739, in start\n\n  File \"I:\\WAF with mechine learning\\venv\\Lib\\site-packages\\tornado\\platform\\asyncio.py\", line 205, in start\n\n  File \"C:\\Users\\Tasdid Hasnain\\AppData\\Local\\Programs\\Python\\Python311\\Lib\\asyncio\\base_events.py\", line 604, in run_forever\n\n  File \"C:\\Users\\Tasdid Hasnain\\AppData\\Local\\Programs\\Python\\Python311\\Lib\\asyncio\\base_events.py\", line 1909, in _run_once\n\n  File \"C:\\Users\\Tasdid Hasnain\\AppData\\Local\\Programs\\Python\\Python311\\Lib\\asyncio\\events.py\", line 80, in _run\n\n  File \"I:\\WAF with mechine learning\\venv\\Lib\\site-packages\\ipykernel\\kernelbase.py\", line 542, in dispatch_queue\n\n  File \"I:\\WAF with mechine learning\\venv\\Lib\\site-packages\\ipykernel\\kernelbase.py\", line 531, in process_one\n\n  File \"I:\\WAF with mechine learning\\venv\\Lib\\site-packages\\ipykernel\\kernelbase.py\", line 437, in dispatch_shell\n\n  File \"I:\\WAF with mechine learning\\venv\\Lib\\site-packages\\ipykernel\\ipkernel.py\", line 359, in execute_request\n\n  File \"I:\\WAF with mechine learning\\venv\\Lib\\site-packages\\ipykernel\\kernelbase.py\", line 775, in execute_request\n\n  File \"I:\\WAF with mechine learning\\venv\\Lib\\site-packages\\ipykernel\\ipkernel.py\", line 446, in do_execute\n\n  File \"I:\\WAF with mechine learning\\venv\\Lib\\site-packages\\ipykernel\\zmqshell.py\", line 549, in run_cell\n\n  File \"I:\\WAF with mechine learning\\venv\\Lib\\site-packages\\IPython\\core\\interactiveshell.py\", line 3051, in run_cell\n\n  File \"I:\\WAF with mechine learning\\venv\\Lib\\site-packages\\IPython\\core\\interactiveshell.py\", line 3106, in _run_cell\n\n  File \"I:\\WAF with mechine learning\\venv\\Lib\\site-packages\\IPython\\core\\async_helpers.py\", line 129, in _pseudo_sync_runner\n\n  File \"I:\\WAF with mechine learning\\venv\\Lib\\site-packages\\IPython\\core\\interactiveshell.py\", line 3311, in run_cell_async\n\n  File \"I:\\WAF with mechine learning\\venv\\Lib\\site-packages\\IPython\\core\\interactiveshell.py\", line 3493, in run_ast_nodes\n\n  File \"I:\\WAF with mechine learning\\venv\\Lib\\site-packages\\IPython\\core\\interactiveshell.py\", line 3553, in run_code\n\n  File \"C:\\Users\\Tasdid Hasnain\\AppData\\Local\\Temp\\ipykernel_5536\\1304317365.py\", line 136, in <module>\n\n  File \"C:\\Users\\Tasdid Hasnain\\AppData\\Local\\Temp\\ipykernel_5536\\1304317365.py\", line 101, in train_model_with_hyperparameter_tuning\n\n  File \"I:\\WAF with mechine learning\\venv\\Lib\\site-packages\\keras\\src\\utils\\traceback_utils.py\", line 65, in error_handler\n\n  File \"I:\\WAF with mechine learning\\venv\\Lib\\site-packages\\keras\\src\\engine\\training.py\", line 1807, in fit\n\n  File \"I:\\WAF with mechine learning\\venv\\Lib\\site-packages\\keras\\src\\engine\\training.py\", line 1401, in train_function\n\n  File \"I:\\WAF with mechine learning\\venv\\Lib\\site-packages\\keras\\src\\engine\\training.py\", line 1384, in step_function\n\n  File \"I:\\WAF with mechine learning\\venv\\Lib\\site-packages\\keras\\src\\engine\\training.py\", line 1373, in run_step\n\n  File \"I:\\WAF with mechine learning\\venv\\Lib\\site-packages\\keras\\src\\engine\\training.py\", line 1150, in train_step\n\n  File \"I:\\WAF with mechine learning\\venv\\Lib\\site-packages\\keras\\src\\utils\\traceback_utils.py\", line 65, in error_handler\n\n  File \"I:\\WAF with mechine learning\\venv\\Lib\\site-packages\\keras\\src\\engine\\training.py\", line 590, in __call__\n\n  File \"I:\\WAF with mechine learning\\venv\\Lib\\site-packages\\keras\\src\\utils\\traceback_utils.py\", line 65, in error_handler\n\n  File \"I:\\WAF with mechine learning\\venv\\Lib\\site-packages\\keras\\src\\engine\\base_layer.py\", line 1149, in __call__\n\n  File \"I:\\WAF with mechine learning\\venv\\Lib\\site-packages\\keras\\src\\utils\\traceback_utils.py\", line 96, in error_handler\n\n  File \"I:\\WAF with mechine learning\\venv\\Lib\\site-packages\\keras\\src\\engine\\functional.py\", line 515, in call\n\n  File \"I:\\WAF with mechine learning\\venv\\Lib\\site-packages\\keras\\src\\engine\\functional.py\", line 672, in _run_internal_graph\n\n  File \"I:\\WAF with mechine learning\\venv\\Lib\\site-packages\\keras\\src\\utils\\traceback_utils.py\", line 65, in error_handler\n\n  File \"I:\\WAF with mechine learning\\venv\\Lib\\site-packages\\keras\\src\\engine\\training.py\", line 590, in __call__\n\n  File \"I:\\WAF with mechine learning\\venv\\Lib\\site-packages\\keras\\src\\utils\\traceback_utils.py\", line 65, in error_handler\n\n  File \"I:\\WAF with mechine learning\\venv\\Lib\\site-packages\\keras\\src\\engine\\base_layer.py\", line 1149, in __call__\n\n  File \"I:\\WAF with mechine learning\\venv\\Lib\\site-packages\\keras\\src\\utils\\traceback_utils.py\", line 96, in error_handler\n\n  File \"I:\\WAF with mechine learning\\venv\\Lib\\site-packages\\keras\\src\\engine\\sequential.py\", line 398, in call\n\n  File \"I:\\WAF with mechine learning\\venv\\Lib\\site-packages\\keras\\src\\engine\\functional.py\", line 515, in call\n\n  File \"I:\\WAF with mechine learning\\venv\\Lib\\site-packages\\keras\\src\\engine\\functional.py\", line 672, in _run_internal_graph\n\n  File \"I:\\WAF with mechine learning\\venv\\Lib\\site-packages\\keras\\src\\utils\\traceback_utils.py\", line 65, in error_handler\n\n  File \"I:\\WAF with mechine learning\\venv\\Lib\\site-packages\\keras\\src\\engine\\base_layer.py\", line 1149, in __call__\n\n  File \"I:\\WAF with mechine learning\\venv\\Lib\\site-packages\\keras\\src\\utils\\traceback_utils.py\", line 96, in error_handler\n\n  File \"I:\\WAF with mechine learning\\venv\\Lib\\site-packages\\keras\\src\\layers\\core\\dense.py\", line 255, in call\n\n  File \"I:\\WAF with mechine learning\\venv\\Lib\\site-packages\\keras\\src\\activations.py\", line 306, in relu\n\n  File \"I:\\WAF with mechine learning\\venv\\Lib\\site-packages\\keras\\src\\backend.py\", line 5395, in relu\n\nMatrix size-incompatible: In[0]: [32,4608], In[1]: [373248,128]\n\t [[{{node model/sequential/dense/Relu}}]] [Op:__inference_train_function_3253]",
     "output_type": "error",
     "traceback": [
      "\u001B[1;31m---------------------------------------------------------------------------\u001B[0m",
      "\u001B[1;31mInvalidArgumentError\u001B[0m                      Traceback (most recent call last)",
      "Cell \u001B[1;32mIn[1], line 136\u001B[0m\n\u001B[0;32m    134\u001B[0m validation_data_generator \u001B[38;5;241m=\u001B[39m create_image_data_generator()\u001B[38;5;241m.\u001B[39mflow(x_val, y_val, batch_size\u001B[38;5;241m=\u001B[39mbatch_size)\n\u001B[0;32m    135\u001B[0m \u001B[38;5;66;03m# Hyperparameter tuning\u001B[39;00m\n\u001B[1;32m--> 136\u001B[0m best_hyperparameters \u001B[38;5;241m=\u001B[39m \u001B[43mtrain_model_with_hyperparameter_tuning\u001B[49m\u001B[43m(\u001B[49m\u001B[43m)\u001B[49m\n\u001B[0;32m    138\u001B[0m \u001B[38;5;66;03m# Transfer learning\u001B[39;00m\n\u001B[0;32m    139\u001B[0m transfer_learning_model \u001B[38;5;241m=\u001B[39m create_transfer_learning_model()\n",
      "Cell \u001B[1;32mIn[1], line 101\u001B[0m, in \u001B[0;36mtrain_model_with_hyperparameter_tuning\u001B[1;34m()\u001B[0m\n\u001B[0;32m     98\u001B[0m model\u001B[38;5;241m.\u001B[39mcompile(optimizer\u001B[38;5;241m=\u001B[39moptimizer, loss\u001B[38;5;241m=\u001B[39m\u001B[38;5;124m'\u001B[39m\u001B[38;5;124mcategorical_crossentropy\u001B[39m\u001B[38;5;124m'\u001B[39m, metrics\u001B[38;5;241m=\u001B[39m[\u001B[38;5;124m'\u001B[39m\u001B[38;5;124maccuracy\u001B[39m\u001B[38;5;124m'\u001B[39m])\n\u001B[0;32m    100\u001B[0m \u001B[38;5;66;03m# Train the model\u001B[39;00m\n\u001B[1;32m--> 101\u001B[0m history \u001B[38;5;241m=\u001B[39m \u001B[43mmodel\u001B[49m\u001B[38;5;241;43m.\u001B[39;49m\u001B[43mfit\u001B[49m\u001B[43m(\u001B[49m\u001B[43mtrain_data_generator\u001B[49m\u001B[43m,\u001B[49m\u001B[43m \u001B[49m\u001B[43mvalidation_data\u001B[49m\u001B[38;5;241;43m=\u001B[39;49m\u001B[43mvalidation_data_generator\u001B[49m\u001B[43m,\u001B[49m\u001B[43m \u001B[49m\u001B[43mepochs\u001B[49m\u001B[38;5;241;43m=\u001B[39;49m\u001B[38;5;241;43m10\u001B[39;49m\u001B[43m,\u001B[49m\u001B[43m \u001B[49m\u001B[43mbatch_size\u001B[49m\u001B[38;5;241;43m=\u001B[39;49m\u001B[43mbatch_size\u001B[49m\u001B[43m)\u001B[49m\n\u001B[0;32m    103\u001B[0m \u001B[38;5;66;03m# Evaluate the model\u001B[39;00m\n\u001B[0;32m    104\u001B[0m _, accuracy \u001B[38;5;241m=\u001B[39m model\u001B[38;5;241m.\u001B[39mevaluate(x_val, y_val, batch_size\u001B[38;5;241m=\u001B[39mbatch_size, verbose\u001B[38;5;241m=\u001B[39m\u001B[38;5;241m0\u001B[39m)\n",
      "File \u001B[1;32mI:\\WAF with mechine learning\\venv\\Lib\\site-packages\\keras\\src\\utils\\traceback_utils.py:70\u001B[0m, in \u001B[0;36mfilter_traceback.<locals>.error_handler\u001B[1;34m(*args, **kwargs)\u001B[0m\n\u001B[0;32m     67\u001B[0m     filtered_tb \u001B[38;5;241m=\u001B[39m _process_traceback_frames(e\u001B[38;5;241m.\u001B[39m__traceback__)\n\u001B[0;32m     68\u001B[0m     \u001B[38;5;66;03m# To get the full stack trace, call:\u001B[39;00m\n\u001B[0;32m     69\u001B[0m     \u001B[38;5;66;03m# `tf.debugging.disable_traceback_filtering()`\u001B[39;00m\n\u001B[1;32m---> 70\u001B[0m     \u001B[38;5;28;01mraise\u001B[39;00m e\u001B[38;5;241m.\u001B[39mwith_traceback(filtered_tb) \u001B[38;5;28;01mfrom\u001B[39;00m \u001B[38;5;28;01mNone\u001B[39;00m\n\u001B[0;32m     71\u001B[0m \u001B[38;5;28;01mfinally\u001B[39;00m:\n\u001B[0;32m     72\u001B[0m     \u001B[38;5;28;01mdel\u001B[39;00m filtered_tb\n",
      "File \u001B[1;32mI:\\WAF with mechine learning\\venv\\Lib\\site-packages\\tensorflow\\python\\eager\\execute.py:53\u001B[0m, in \u001B[0;36mquick_execute\u001B[1;34m(op_name, num_outputs, inputs, attrs, ctx, name)\u001B[0m\n\u001B[0;32m     51\u001B[0m \u001B[38;5;28;01mtry\u001B[39;00m:\n\u001B[0;32m     52\u001B[0m   ctx\u001B[38;5;241m.\u001B[39mensure_initialized()\n\u001B[1;32m---> 53\u001B[0m   tensors \u001B[38;5;241m=\u001B[39m pywrap_tfe\u001B[38;5;241m.\u001B[39mTFE_Py_Execute(ctx\u001B[38;5;241m.\u001B[39m_handle, device_name, op_name,\n\u001B[0;32m     54\u001B[0m                                       inputs, attrs, num_outputs)\n\u001B[0;32m     55\u001B[0m \u001B[38;5;28;01mexcept\u001B[39;00m core\u001B[38;5;241m.\u001B[39m_NotOkStatusException \u001B[38;5;28;01mas\u001B[39;00m e:\n\u001B[0;32m     56\u001B[0m   \u001B[38;5;28;01mif\u001B[39;00m name \u001B[38;5;129;01mis\u001B[39;00m \u001B[38;5;129;01mnot\u001B[39;00m \u001B[38;5;28;01mNone\u001B[39;00m:\n",
      "\u001B[1;31mInvalidArgumentError\u001B[0m: Graph execution error:\n\nDetected at node model/sequential/dense/Relu defined at (most recent call last):\n  File \"<frozen runpy>\", line 198, in _run_module_as_main\n\n  File \"<frozen runpy>\", line 88, in _run_code\n\n  File \"I:\\WAF with mechine learning\\venv\\Lib\\site-packages\\ipykernel_launcher.py\", line 18, in <module>\n\n  File \"I:\\WAF with mechine learning\\venv\\Lib\\site-packages\\traitlets\\config\\application.py\", line 1075, in launch_instance\n\n  File \"I:\\WAF with mechine learning\\venv\\Lib\\site-packages\\ipykernel\\kernelapp.py\", line 739, in start\n\n  File \"I:\\WAF with mechine learning\\venv\\Lib\\site-packages\\tornado\\platform\\asyncio.py\", line 205, in start\n\n  File \"C:\\Users\\Tasdid Hasnain\\AppData\\Local\\Programs\\Python\\Python311\\Lib\\asyncio\\base_events.py\", line 604, in run_forever\n\n  File \"C:\\Users\\Tasdid Hasnain\\AppData\\Local\\Programs\\Python\\Python311\\Lib\\asyncio\\base_events.py\", line 1909, in _run_once\n\n  File \"C:\\Users\\Tasdid Hasnain\\AppData\\Local\\Programs\\Python\\Python311\\Lib\\asyncio\\events.py\", line 80, in _run\n\n  File \"I:\\WAF with mechine learning\\venv\\Lib\\site-packages\\ipykernel\\kernelbase.py\", line 542, in dispatch_queue\n\n  File \"I:\\WAF with mechine learning\\venv\\Lib\\site-packages\\ipykernel\\kernelbase.py\", line 531, in process_one\n\n  File \"I:\\WAF with mechine learning\\venv\\Lib\\site-packages\\ipykernel\\kernelbase.py\", line 437, in dispatch_shell\n\n  File \"I:\\WAF with mechine learning\\venv\\Lib\\site-packages\\ipykernel\\ipkernel.py\", line 359, in execute_request\n\n  File \"I:\\WAF with mechine learning\\venv\\Lib\\site-packages\\ipykernel\\kernelbase.py\", line 775, in execute_request\n\n  File \"I:\\WAF with mechine learning\\venv\\Lib\\site-packages\\ipykernel\\ipkernel.py\", line 446, in do_execute\n\n  File \"I:\\WAF with mechine learning\\venv\\Lib\\site-packages\\ipykernel\\zmqshell.py\", line 549, in run_cell\n\n  File \"I:\\WAF with mechine learning\\venv\\Lib\\site-packages\\IPython\\core\\interactiveshell.py\", line 3051, in run_cell\n\n  File \"I:\\WAF with mechine learning\\venv\\Lib\\site-packages\\IPython\\core\\interactiveshell.py\", line 3106, in _run_cell\n\n  File \"I:\\WAF with mechine learning\\venv\\Lib\\site-packages\\IPython\\core\\async_helpers.py\", line 129, in _pseudo_sync_runner\n\n  File \"I:\\WAF with mechine learning\\venv\\Lib\\site-packages\\IPython\\core\\interactiveshell.py\", line 3311, in run_cell_async\n\n  File \"I:\\WAF with mechine learning\\venv\\Lib\\site-packages\\IPython\\core\\interactiveshell.py\", line 3493, in run_ast_nodes\n\n  File \"I:\\WAF with mechine learning\\venv\\Lib\\site-packages\\IPython\\core\\interactiveshell.py\", line 3553, in run_code\n\n  File \"C:\\Users\\Tasdid Hasnain\\AppData\\Local\\Temp\\ipykernel_5536\\1304317365.py\", line 136, in <module>\n\n  File \"C:\\Users\\Tasdid Hasnain\\AppData\\Local\\Temp\\ipykernel_5536\\1304317365.py\", line 101, in train_model_with_hyperparameter_tuning\n\n  File \"I:\\WAF with mechine learning\\venv\\Lib\\site-packages\\keras\\src\\utils\\traceback_utils.py\", line 65, in error_handler\n\n  File \"I:\\WAF with mechine learning\\venv\\Lib\\site-packages\\keras\\src\\engine\\training.py\", line 1807, in fit\n\n  File \"I:\\WAF with mechine learning\\venv\\Lib\\site-packages\\keras\\src\\engine\\training.py\", line 1401, in train_function\n\n  File \"I:\\WAF with mechine learning\\venv\\Lib\\site-packages\\keras\\src\\engine\\training.py\", line 1384, in step_function\n\n  File \"I:\\WAF with mechine learning\\venv\\Lib\\site-packages\\keras\\src\\engine\\training.py\", line 1373, in run_step\n\n  File \"I:\\WAF with mechine learning\\venv\\Lib\\site-packages\\keras\\src\\engine\\training.py\", line 1150, in train_step\n\n  File \"I:\\WAF with mechine learning\\venv\\Lib\\site-packages\\keras\\src\\utils\\traceback_utils.py\", line 65, in error_handler\n\n  File \"I:\\WAF with mechine learning\\venv\\Lib\\site-packages\\keras\\src\\engine\\training.py\", line 590, in __call__\n\n  File \"I:\\WAF with mechine learning\\venv\\Lib\\site-packages\\keras\\src\\utils\\traceback_utils.py\", line 65, in error_handler\n\n  File \"I:\\WAF with mechine learning\\venv\\Lib\\site-packages\\keras\\src\\engine\\base_layer.py\", line 1149, in __call__\n\n  File \"I:\\WAF with mechine learning\\venv\\Lib\\site-packages\\keras\\src\\utils\\traceback_utils.py\", line 96, in error_handler\n\n  File \"I:\\WAF with mechine learning\\venv\\Lib\\site-packages\\keras\\src\\engine\\functional.py\", line 515, in call\n\n  File \"I:\\WAF with mechine learning\\venv\\Lib\\site-packages\\keras\\src\\engine\\functional.py\", line 672, in _run_internal_graph\n\n  File \"I:\\WAF with mechine learning\\venv\\Lib\\site-packages\\keras\\src\\utils\\traceback_utils.py\", line 65, in error_handler\n\n  File \"I:\\WAF with mechine learning\\venv\\Lib\\site-packages\\keras\\src\\engine\\training.py\", line 590, in __call__\n\n  File \"I:\\WAF with mechine learning\\venv\\Lib\\site-packages\\keras\\src\\utils\\traceback_utils.py\", line 65, in error_handler\n\n  File \"I:\\WAF with mechine learning\\venv\\Lib\\site-packages\\keras\\src\\engine\\base_layer.py\", line 1149, in __call__\n\n  File \"I:\\WAF with mechine learning\\venv\\Lib\\site-packages\\keras\\src\\utils\\traceback_utils.py\", line 96, in error_handler\n\n  File \"I:\\WAF with mechine learning\\venv\\Lib\\site-packages\\keras\\src\\engine\\sequential.py\", line 398, in call\n\n  File \"I:\\WAF with mechine learning\\venv\\Lib\\site-packages\\keras\\src\\engine\\functional.py\", line 515, in call\n\n  File \"I:\\WAF with mechine learning\\venv\\Lib\\site-packages\\keras\\src\\engine\\functional.py\", line 672, in _run_internal_graph\n\n  File \"I:\\WAF with mechine learning\\venv\\Lib\\site-packages\\keras\\src\\utils\\traceback_utils.py\", line 65, in error_handler\n\n  File \"I:\\WAF with mechine learning\\venv\\Lib\\site-packages\\keras\\src\\engine\\base_layer.py\", line 1149, in __call__\n\n  File \"I:\\WAF with mechine learning\\venv\\Lib\\site-packages\\keras\\src\\utils\\traceback_utils.py\", line 96, in error_handler\n\n  File \"I:\\WAF with mechine learning\\venv\\Lib\\site-packages\\keras\\src\\layers\\core\\dense.py\", line 255, in call\n\n  File \"I:\\WAF with mechine learning\\venv\\Lib\\site-packages\\keras\\src\\activations.py\", line 306, in relu\n\n  File \"I:\\WAF with mechine learning\\venv\\Lib\\site-packages\\keras\\src\\backend.py\", line 5395, in relu\n\nMatrix size-incompatible: In[0]: [32,4608], In[1]: [373248,128]\n\t [[{{node model/sequential/dense/Relu}}]] [Op:__inference_train_function_3253]"
     ]
    }
   ],
   "source": [
    "import tensorflow as tf\n",
    "from tensorflow.keras import layers, models, callbacks\n",
    "from tensorflow.keras.applications import VGG16\n",
    "from tensorflow.keras.preprocessing.image import ImageDataGenerator\n",
    "\n",
    "# Define input shape\n",
    "input_height = 224\n",
    "input_width = 224\n",
    "input_channels = 3\n",
    "batch_size = 32\n",
    "\n",
    "# Load data\n",
    "(x_train, y_train), (x_val, y_val) = tf.keras.datasets.cifar10.load_data()\n",
    "x_train = x_train / 255.0\n",
    "x_val = x_val / 255.0\n",
    "y_train = tf.keras.utils.to_categorical(y_train, 10)\n",
    "y_val = tf.keras.utils.to_categorical(y_val, 10)\n",
    "\n",
    "# Define DDoS Detection Layer\n",
    "def ddos_detection_model(input_shape):\n",
    "    model = models.Sequential()\n",
    "    model.add(layers.Conv2D(32, (3, 3), activation='relu', input_shape=input_shape))\n",
    "    model.add(layers.Conv2D(64, (3, 3), activation='relu'))\n",
    "    model.add(layers.MaxPooling2D((2, 2)))\n",
    "    model.add(layers.Dropout(0.25))\n",
    "    model.add(layers.Conv2D(128, (3, 3), activation='relu'))\n",
    "    model.add(layers.MaxPooling2D((2, 2)))\n",
    "    model.add(layers.Dropout(0.25))\n",
    "    model.add(layers.Flatten())\n",
    "    model.add(layers.Dense(128, activation='relu'))\n",
    "    model.add(layers.Dropout(0.5))\n",
    "    model.add(layers.Dense(1, activation='sigmoid'))  # Binary classification\n",
    "    return model\n",
    "\n",
    "# Define XSS and SQL Injection Detection Layer\n",
    "def xss_sql_detection_model(input_shape):\n",
    "    model = models.Sequential()\n",
    "    model.add(layers.Conv2D(32, (3, 3), activation='relu', input_shape=input_shape))\n",
    "    model.add(layers.Conv2D(64, (3, 3), activation='relu'))\n",
    "    model.add(layers.MaxPooling2D((2, 2)))\n",
    "    model.add(layers.Dropout(0.25))\n",
    "    model.add(layers.Conv2D(128, (3, 3), activation='relu'))\n",
    "    model.add(layers.MaxPooling2D((2, 2)))\n",
    "    model.add(layers.Dropout(0.25))\n",
    "    model.add(layers.Flatten())\n",
    "    model.add(layers.Dense(128, activation='relu'))\n",
    "    model.add(layers.Dropout(0.5))\n",
    "    model.add(layers.Dense(1, activation='sigmoid'))  # Binary classification\n",
    "    return model\n",
    "\n",
    "# Main Architecture\n",
    "def main_architecture(input_shape):\n",
    "    input_data = layers.Input(shape=input_shape)\n",
    "\n",
    "    # DDoS Detection Layer\n",
    "    ddos_model = ddos_detection_model(input_shape)(input_data)\n",
    "\n",
    "    # XSS and SQL Injection Detection Layer\n",
    "    xss_sql_model = xss_sql_detection_model(input_shape)(input_data)\n",
    "\n",
    "    # Merge the outputs from both layers\n",
    "    merged_output = layers.Concatenate()([ddos_model, xss_sql_model])\n",
    "\n",
    "    # Final decision layer\n",
    "    final_output = layers.Dense(3, activation='softmax')(merged_output)  # Three possible classes: benign, DDoS, XSS/SQL injection\n",
    "\n",
    "    model = models.Model(inputs=input_data, outputs=final_output)\n",
    "    return model\n",
    "\n",
    "# Data Augmentation\n",
    "def create_image_data_generator():\n",
    "    return ImageDataGenerator(\n",
    "        rotation_range=20,\n",
    "        width_shift_range=0.2,\n",
    "        height_shift_range=0.2,\n",
    "        shear_range=0.2,\n",
    "        zoom_range=0.2,\n",
    "        horizontal_flip=True,\n",
    "        fill_mode='nearest'\n",
    "    )\n",
    "\n",
    "# Hyperparameter Tuning\n",
    "def train_model_with_hyperparameter_tuning():\n",
    "    # Define hyperparameters to tune\n",
    "    learning_rates = [0.001, 0.01, 0.1]\n",
    "    dropout_rates = [0.3, 0.5, 0.7]\n",
    "    batch_sizes = [16, 32, 64]\n",
    "\n",
    "    best_accuracy = 0\n",
    "    best_hyperparameters = {}\n",
    "\n",
    "    for lr in learning_rates:\n",
    "        for dropout_rate in dropout_rates:\n",
    "            for batch_size in batch_sizes:\n",
    "                # Define and compile the model\n",
    "                model = main_architecture(input_shape)\n",
    "                optimizer = tf.keras.optimizers.Adam(lr=lr)\n",
    "                model.compile(optimizer=optimizer, loss='categorical_crossentropy', metrics=['accuracy'])\n",
    "\n",
    "                # Train the model\n",
    "                history = model.fit(train_data_generator, validation_data=validation_data_generator, epochs=10, batch_size=batch_size)\n",
    "\n",
    "                # Evaluate the model\n",
    "                _, accuracy = model.evaluate(x_val, y_val, batch_size=batch_size, verbose=0)\n",
    "\n",
    "                # Update best hyperparameters if accuracy improves\n",
    "                if accuracy > best_accuracy:\n",
    "                    best_accuracy = accuracy\n",
    "                    best_hyperparameters = {'learning_rate': lr, 'dropout_rate': dropout_rate, 'batch_size': batch_size}\n",
    "\n",
    "    return best_hyperparameters\n",
    "\n",
    "# Transfer Learning\n",
    "def create_transfer_learning_model():\n",
    "    base_model = VGG16(weights='imagenet', include_top=False, input_shape=(img_height, img_width, 3))\n",
    "    base_model.trainable = False\n",
    "\n",
    "    global_average_layer = tf.keras.layers.GlobalAveragePooling2D()\n",
    "    prediction_layer = tf.keras.layers.Dense(3, activation='softmax')\n",
    "\n",
    "    model = tf.keras.Sequential([\n",
    "        base_model,\n",
    "        global_average_layer,\n",
    "        prediction_layer\n",
    "    ])\n",
    "\n",
    "    return model\n",
    "\n",
    "# Example usage:\n",
    "input_shape = (input_height, input_width, input_channels)\n",
    "\n",
    "# Data augmentation\n",
    "train_data_generator = create_image_data_generator().flow(x_train, y_train, batch_size=batch_size)\n",
    "validation_data_generator = create_image_data_generator().flow(x_val, y_val, batch_size=batch_size)\n",
    "# Hyperparameter tuning\n",
    "best_hyperparameters = train_model_with_hyperparameter_tuning()\n",
    "\n",
    "# Transfer learning\n",
    "transfer_learning_model = create_transfer_learning_model()\n",
    "\n",
    "# Compile the model\n",
    "model = main_architecture(input_shape)\n",
    "model.compile(optimizer=tf.keras.optimizers.Adam(lr=best_hyperparameters['learning_rate']),\n",
    "              loss='categorical_crossentropy', metrics=['accuracy'])\n",
    "\n",
    "# Train the model\n",
    "history = model.fit(train_data_generator, validation_data=validation_data_generator, epochs=10, batch_size=best_hyperparameters['batch_size'])\n",
    "\n"
   ],
   "metadata": {
    "collapsed": false,
    "pycharm": {
     "name": "#%%\n"
    }
   }
  }
 ],
 "metadata": {
  "kernelspec": {
   "display_name": "Python 3",
   "language": "python",
   "name": "python3"
  },
  "language_info": {
   "codemirror_mode": {
    "name": "ipython",
    "version": 2
   },
   "file_extension": ".py",
   "mimetype": "text/x-python",
   "name": "python",
   "nbconvert_exporter": "python",
   "pygments_lexer": "ipython2",
   "version": "2.7.6"
  }
 },
 "nbformat": 4,
 "nbformat_minor": 0
}