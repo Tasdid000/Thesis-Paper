{
 "cells": [
  {
   "cell_type": "code",
   "execution_count": 3,
   "metadata": {
    "collapsed": true,
    "pycharm": {
     "name": "#%%\n"
    }
   },
   "outputs": [],
   "source": [
    "import numpy as np\n",
    "import matplotlib.pyplot as plt\n",
    "import pandas as pd\n",
    "plt.style.use('ggplot')"
   ]
  },
  {
   "cell_type": "code",
   "execution_count": 2,
   "metadata": {
    "collapsed": false,
    "pycharm": {
     "name": "#%%\n"
    }
   },
   "outputs": [
    {
     "name": "stdout",
     "output_type": "stream",
     "text": [
      "WARNING:tensorflow:From I:\\WAF with mechine learning\\venv\\lib\\site-packages\\keras\\src\\losses.py:2976: The name tf.losses.sparse_softmax_cross_entropy is deprecated. Please use tf.compat.v1.losses.sparse_softmax_cross_entropy instead.\n",
      "\n"
     ]
    }
   ],
   "source": [
    "from tensorflow.keras.models import Sequential\n",
    "from tensorflow.keras.layers import Conv2D, MaxPooling2D, Flatten, Dense"
   ]
  },
  {
   "cell_type": "code",
   "execution_count": 10,
   "metadata": {
    "collapsed": false,
    "pycharm": {
     "name": "#%%\n"
    }
   },
   "outputs": [],
   "source": [
    "# Importing the dataset\n",
    "dataset = pd.read_csv('I:/WAF with mechine learning/Dataset/DDos 2019 cic/01-12/DrDoS_DNSfinal.csv', sep=',')"
   ]
  },
  {
   "cell_type": "code",
   "execution_count": 11,
   "metadata": {
    "collapsed": false,
    "pycharm": {
     "name": "#%%\n"
    }
   },
   "outputs": [
    {
     "data": {
      "text/html": [
       "<div>\n",
       "<style scoped>\n",
       "    .dataframe tbody tr th:only-of-type {\n",
       "        vertical-align: middle;\n",
       "    }\n",
       "\n",
       "    .dataframe tbody tr th {\n",
       "        vertical-align: top;\n",
       "    }\n",
       "\n",
       "    .dataframe thead th {\n",
       "        text-align: right;\n",
       "    }\n",
       "</style>\n",
       "<table border=\"1\" class=\"dataframe\">\n",
       "  <thead>\n",
       "    <tr style=\"text-align: right;\">\n",
       "      <th></th>\n",
       "      <th>Flow ID</th>\n",
       "      <th>Source IP</th>\n",
       "      <th>Source Port</th>\n",
       "      <th>Destination IP</th>\n",
       "      <th>Destination Port</th>\n",
       "      <th>Protocol</th>\n",
       "      <th>Timestamp</th>\n",
       "      <th>Flow Duration</th>\n",
       "      <th>Total Fwd Packets</th>\n",
       "      <th>Total Backward Packets</th>\n",
       "      <th>...</th>\n",
       "      <th>Active Mean</th>\n",
       "      <th>Active Std</th>\n",
       "      <th>Active Max</th>\n",
       "      <th>Active Min</th>\n",
       "      <th>Idle Mean</th>\n",
       "      <th>Idle Std</th>\n",
       "      <th>Idle Max</th>\n",
       "      <th>Idle Min</th>\n",
       "      <th>Inbound</th>\n",
       "      <th>Label</th>\n",
       "    </tr>\n",
       "  </thead>\n",
       "  <tbody>\n",
       "    <tr>\n",
       "      <th>0</th>\n",
       "      <td>1217353</td>\n",
       "      <td>14</td>\n",
       "      <td>634</td>\n",
       "      <td>74</td>\n",
       "      <td>60495</td>\n",
       "      <td>17</td>\n",
       "      <td>0</td>\n",
       "      <td>28415</td>\n",
       "      <td>97</td>\n",
       "      <td>0</td>\n",
       "      <td>...</td>\n",
       "      <td>0.0</td>\n",
       "      <td>0.0</td>\n",
       "      <td>0.0</td>\n",
       "      <td>0.0</td>\n",
       "      <td>0.0</td>\n",
       "      <td>0.0</td>\n",
       "      <td>0.0</td>\n",
       "      <td>0.0</td>\n",
       "      <td>1</td>\n",
       "      <td>1</td>\n",
       "    </tr>\n",
       "    <tr>\n",
       "      <th>1</th>\n",
       "      <td>973171</td>\n",
       "      <td>71</td>\n",
       "      <td>634</td>\n",
       "      <td>13</td>\n",
       "      <td>60495</td>\n",
       "      <td>17</td>\n",
       "      <td>1</td>\n",
       "      <td>2</td>\n",
       "      <td>2</td>\n",
       "      <td>0</td>\n",
       "      <td>...</td>\n",
       "      <td>0.0</td>\n",
       "      <td>0.0</td>\n",
       "      <td>0.0</td>\n",
       "      <td>0.0</td>\n",
       "      <td>0.0</td>\n",
       "      <td>0.0</td>\n",
       "      <td>0.0</td>\n",
       "      <td>0.0</td>\n",
       "      <td>0</td>\n",
       "      <td>1</td>\n",
       "    </tr>\n",
       "    <tr>\n",
       "      <th>2</th>\n",
       "      <td>1213250</td>\n",
       "      <td>14</td>\n",
       "      <td>634</td>\n",
       "      <td>74</td>\n",
       "      <td>46391</td>\n",
       "      <td>17</td>\n",
       "      <td>2</td>\n",
       "      <td>48549</td>\n",
       "      <td>200</td>\n",
       "      <td>0</td>\n",
       "      <td>...</td>\n",
       "      <td>0.0</td>\n",
       "      <td>0.0</td>\n",
       "      <td>0.0</td>\n",
       "      <td>0.0</td>\n",
       "      <td>0.0</td>\n",
       "      <td>0.0</td>\n",
       "      <td>0.0</td>\n",
       "      <td>0.0</td>\n",
       "      <td>1</td>\n",
       "      <td>1</td>\n",
       "    </tr>\n",
       "    <tr>\n",
       "      <th>3</th>\n",
       "      <td>1203225</td>\n",
       "      <td>14</td>\n",
       "      <td>634</td>\n",
       "      <td>74</td>\n",
       "      <td>11894</td>\n",
       "      <td>17</td>\n",
       "      <td>3</td>\n",
       "      <td>48337</td>\n",
       "      <td>200</td>\n",
       "      <td>0</td>\n",
       "      <td>...</td>\n",
       "      <td>0.0</td>\n",
       "      <td>0.0</td>\n",
       "      <td>0.0</td>\n",
       "      <td>0.0</td>\n",
       "      <td>0.0</td>\n",
       "      <td>0.0</td>\n",
       "      <td>0.0</td>\n",
       "      <td>0.0</td>\n",
       "      <td>1</td>\n",
       "      <td>1</td>\n",
       "    </tr>\n",
       "    <tr>\n",
       "      <th>4</th>\n",
       "      <td>1207865</td>\n",
       "      <td>14</td>\n",
       "      <td>634</td>\n",
       "      <td>74</td>\n",
       "      <td>27878</td>\n",
       "      <td>17</td>\n",
       "      <td>4</td>\n",
       "      <td>32026</td>\n",
       "      <td>200</td>\n",
       "      <td>0</td>\n",
       "      <td>...</td>\n",
       "      <td>0.0</td>\n",
       "      <td>0.0</td>\n",
       "      <td>0.0</td>\n",
       "      <td>0.0</td>\n",
       "      <td>0.0</td>\n",
       "      <td>0.0</td>\n",
       "      <td>0.0</td>\n",
       "      <td>0.0</td>\n",
       "      <td>1</td>\n",
       "      <td>1</td>\n",
       "    </tr>\n",
       "  </tbody>\n",
       "</table>\n",
       "<p>5 rows × 86 columns</p>\n",
       "</div>"
      ],
      "text/plain": [
       "   Flow ID  Source IP  Source Port  Destination IP  Destination Port  \\\n",
       "0  1217353         14          634              74             60495   \n",
       "1   973171         71          634              13             60495   \n",
       "2  1213250         14          634              74             46391   \n",
       "3  1203225         14          634              74             11894   \n",
       "4  1207865         14          634              74             27878   \n",
       "\n",
       "   Protocol  Timestamp  Flow Duration  Total Fwd Packets  \\\n",
       "0        17          0          28415                 97   \n",
       "1        17          1              2                  2   \n",
       "2        17          2          48549                200   \n",
       "3        17          3          48337                200   \n",
       "4        17          4          32026                200   \n",
       "\n",
       "   Total Backward Packets  ...  Active Mean  Active Std  Active Max  \\\n",
       "0                       0  ...          0.0         0.0         0.0   \n",
       "1                       0  ...          0.0         0.0         0.0   \n",
       "2                       0  ...          0.0         0.0         0.0   \n",
       "3                       0  ...          0.0         0.0         0.0   \n",
       "4                       0  ...          0.0         0.0         0.0   \n",
       "\n",
       "   Active Min  Idle Mean  Idle Std  Idle Max  Idle Min  Inbound  Label  \n",
       "0         0.0        0.0       0.0       0.0       0.0        1      1  \n",
       "1         0.0        0.0       0.0       0.0       0.0        0      1  \n",
       "2         0.0        0.0       0.0       0.0       0.0        1      1  \n",
       "3         0.0        0.0       0.0       0.0       0.0        1      1  \n",
       "4         0.0        0.0       0.0       0.0       0.0        1      1  \n",
       "\n",
       "[5 rows x 86 columns]"
      ]
     },
     "execution_count": 11,
     "metadata": {},
     "output_type": "execute_result"
    }
   ],
   "source": [
    "dataset.head()"
   ]
  },
  {
   "cell_type": "code",
   "execution_count": 12,
   "metadata": {
    "collapsed": false,
    "pycharm": {
     "name": "#%%\n"
    }
   },
   "outputs": [
    {
     "data": {
      "text/plain": [
       "Label\n",
       "1    4908665\n",
       "0       3354\n",
       "Name: count, dtype: int64"
      ]
     },
     "execution_count": 12,
     "metadata": {},
     "output_type": "execute_result"
    }
   ],
   "source": [
    "dataset['Label'].value_counts()"
   ]
  },
  {
   "cell_type": "code",
   "execution_count": 13,
   "metadata": {
    "collapsed": false,
    "pycharm": {
     "name": "#%%\n"
    }
   },
   "outputs": [],
   "source": [
    "data_new_20features_X = dataset[['Flow ID', 'Source IP', 'Source Port', 'Destination IP', 'Destination Port', 'Protocol', 'Timestamp', 'Flow Duration', 'Total Fwd Packets', 'Total Backward Packets', 'Total Length of Fwd Packets', 'Total Length of Bwd Packets', 'Fwd Packet Length Max', 'Fwd Packet Length Min', 'Fwd Packet Length Mean', 'Fwd Packet Length Std', 'Bwd Packet Length Max', 'Bwd Packet Length Min', 'Bwd Packet Length Mean', 'Bwd Packet Length Std']]\n"
   ]
  },
  {
   "cell_type": "code",
   "execution_count": 14,
   "metadata": {
    "collapsed": false,
    "pycharm": {
     "name": "#%%\n"
    }
   },
   "outputs": [],
   "source": [
    "dataset_y = dataset['Label']"
   ]
  },
  {
   "cell_type": "markdown",
   "metadata": {
    "collapsed": false,
    "pycharm": {
     "name": "#%% md\n"
    }
   },
   "source": [
    "Label Encoding for the Dataset"
   ]
  },
  {
   "cell_type": "code",
   "execution_count": 15,
   "metadata": {
    "collapsed": false,
    "pycharm": {
     "name": "#%%\n"
    }
   },
   "outputs": [],
   "source": [
    "dataset.drop('Label', axis=1, inplace=True)"
   ]
  },
  {
   "cell_type": "code",
   "execution_count": 16,
   "metadata": {
    "collapsed": false,
    "pycharm": {
     "name": "#%%\n"
    }
   },
   "outputs": [
    {
     "data": {
      "text/plain": [
       "array([1, 1, 1, ..., 1, 1, 1], dtype=int64)"
      ]
     },
     "execution_count": 16,
     "metadata": {},
     "output_type": "execute_result"
    }
   ],
   "source": [
    "from sklearn.preprocessing import LabelEncoder\n",
    "le = LabelEncoder()\n",
    "data_y_trans = le.fit_transform(dataset_y)\n",
    "data_y_trans"
   ]
  },
  {
   "cell_type": "markdown",
   "metadata": {
    "collapsed": false,
    "pycharm": {
     "name": "#%% md\n"
    }
   },
   "source": [
    "Train Test Split 20 Features Dataset"
   ]
  },
  {
   "cell_type": "code",
   "execution_count": 17,
   "metadata": {
    "collapsed": false,
    "pycharm": {
     "name": "#%%\n"
    }
   },
   "outputs": [],
   "source": [
    "from sklearn.model_selection import train_test_split\n",
    "X_train_20features, X_test_20features, y_train_20features, y_test_20features = train_test_split( data_new_20features_X, data_y_trans, test_size = 0.30, random_state = 42)"
   ]
  },
  {
   "cell_type": "markdown",
   "metadata": {
    "collapsed": false,
    "pycharm": {
     "name": "#%% md\n"
    }
   },
   "source": [
    "Standardization of the 20 Feature Dataset"
   ]
  },
  {
   "cell_type": "code",
   "execution_count": 22,
   "metadata": {
    "collapsed": false,
    "pycharm": {
     "name": "#%%\n"
    }
   },
   "outputs": [],
   "source": [
    "from sklearn.preprocessing import StandardScaler\n",
    "\n",
    "ss20 = StandardScaler()\n",
    "X_train_20features_std = ss20.fit_transform(X_train_20features)\n",
    "X_test_20features_std = ss20.fit_transform(X_test_20features)"
   ]
  },
  {
   "cell_type": "markdown",
   "metadata": {
    "collapsed": false,
    "pycharm": {
     "name": "#%% md\n"
    }
   },
   "source": [
    "NN Model for 20 Features"
   ]
  },
  {
   "cell_type": "code",
   "execution_count": 23,
   "metadata": {
    "collapsed": false,
    "pycharm": {
     "name": "#%%\n"
    }
   },
   "outputs": [
    {
     "name": "stdout",
     "output_type": "stream",
     "text": [
      "Model: \"sequential_1\"\n",
      "_________________________________________________________________\n",
      " Layer (type)                Output Shape              Param #   \n",
      "=================================================================\n",
      " flatten_1 (Flatten)         (None, 20)                0         \n",
      "                                                                 \n",
      " dense_3 (Dense)             (None, 128)               2688      \n",
      "                                                                 \n",
      " dropout_2 (Dropout)         (None, 128)               0         \n",
      "                                                                 \n",
      " dense_4 (Dense)             (None, 64)                8256      \n",
      "                                                                 \n",
      " dropout_3 (Dropout)         (None, 64)                0         \n",
      "                                                                 \n",
      " dense_5 (Dense)             (None, 1)                 65        \n",
      "                                                                 \n",
      "=================================================================\n",
      "Total params: 11009 (43.00 KB)\n",
      "Trainable params: 11009 (43.00 KB)\n",
      "Non-trainable params: 0 (0.00 Byte)\n",
      "_________________________________________________________________\n",
      "Epoch 1/20\n",
      "WARNING:tensorflow:From I:\\WAF with mechine learning\\venv\\lib\\site-packages\\keras\\src\\utils\\tf_utils.py:492: The name tf.ragged.RaggedTensorValue is deprecated. Please use tf.compat.v1.ragged.RaggedTensorValue instead.\n",
      "\n",
      "WARNING:tensorflow:From I:\\WAF with mechine learning\\venv\\lib\\site-packages\\keras\\src\\engine\\base_layer_utils.py:384: The name tf.executing_eagerly_outside_functions is deprecated. Please use tf.compat.v1.executing_eagerly_outside_functions instead.\n",
      "\n",
      "9402/9402 [==============================] - 31s 3ms/step - loss: 0.0036 - accuracy: 0.9996 - val_loss: 6.2235e-05 - val_accuracy: 1.0000\n",
      "Epoch 2/20\n",
      "9402/9402 [==============================] - 26s 3ms/step - loss: 0.0011 - accuracy: 1.0000 - val_loss: 5.9496e-05 - val_accuracy: 1.0000\n",
      "Epoch 3/20\n",
      "9402/9402 [==============================] - 25s 3ms/step - loss: 0.0012 - accuracy: 1.0000 - val_loss: 7.2626e-05 - val_accuracy: 1.0000\n",
      "Epoch 4/20\n",
      "9402/9402 [==============================] - 27s 3ms/step - loss: 1.3145e-04 - accuracy: 1.0000 - val_loss: 2.0633e-07 - val_accuracy: 1.0000\n",
      "Epoch 5/20\n",
      "9402/9402 [==============================] - 28s 3ms/step - loss: 8.6905e-05 - accuracy: 1.0000 - val_loss: 9.4042e-07 - val_accuracy: 1.0000\n",
      "Epoch 6/20\n",
      "9402/9402 [==============================] - 26s 3ms/step - loss: 5.0988e-04 - accuracy: 1.0000 - val_loss: 2.2195e-07 - val_accuracy: 1.0000\n",
      "Epoch 7/20\n",
      "9402/9402 [==============================] - 25s 3ms/step - loss: 2.6752e-05 - accuracy: 1.0000 - val_loss: 2.8216e-07 - val_accuracy: 1.0000\n",
      "Epoch 8/20\n",
      "9402/9402 [==============================] - 25s 3ms/step - loss: 3.4896e-05 - accuracy: 1.0000 - val_loss: 6.3726e-07 - val_accuracy: 1.0000\n",
      "Epoch 9/20\n",
      "9402/9402 [==============================] - 26s 3ms/step - loss: 2.5809e-05 - accuracy: 1.0000 - val_loss: 2.8924e-09 - val_accuracy: 1.0000\n",
      "Epoch 10/20\n",
      "9402/9402 [==============================] - 25s 3ms/step - loss: 2.8121e-05 - accuracy: 1.0000 - val_loss: 2.7442e-08 - val_accuracy: 1.0000\n",
      "Epoch 11/20\n",
      "9402/9402 [==============================] - 25s 3ms/step - loss: 1.5885e-04 - accuracy: 1.0000 - val_loss: 1.7483e-10 - val_accuracy: 1.0000\n",
      "Epoch 12/20\n",
      "9402/9402 [==============================] - 26s 3ms/step - loss: 2.6478e-04 - accuracy: 1.0000 - val_loss: 4.7420e-10 - val_accuracy: 1.0000\n",
      "Epoch 13/20\n",
      "9402/9402 [==============================] - 25s 3ms/step - loss: 2.6031e-05 - accuracy: 1.0000 - val_loss: 1.1838e-05 - val_accuracy: 1.0000\n",
      "Epoch 14/20\n",
      "9402/9402 [==============================] - 26s 3ms/step - loss: 3.8260e-05 - accuracy: 1.0000 - val_loss: 7.1298e-08 - val_accuracy: 1.0000\n",
      "Epoch 15/20\n",
      "9402/9402 [==============================] - 25s 3ms/step - loss: 9.2022e-05 - accuracy: 1.0000 - val_loss: 3.5911e-08 - val_accuracy: 1.0000\n",
      "Epoch 16/20\n",
      "9402/9402 [==============================] - 26s 3ms/step - loss: 8.5790e-05 - accuracy: 1.0000 - val_loss: 6.5528e-07 - val_accuracy: 1.0000\n",
      "Epoch 17/20\n",
      "9402/9402 [==============================] - 26s 3ms/step - loss: 5.9670e-05 - accuracy: 1.0000 - val_loss: 1.1111e-10 - val_accuracy: 1.0000\n",
      "Epoch 18/20\n",
      "9402/9402 [==============================] - 26s 3ms/step - loss: 3.3695e-05 - accuracy: 1.0000 - val_loss: 8.1618e-11 - val_accuracy: 1.0000\n",
      "Epoch 19/20\n",
      "9402/9402 [==============================] - 26s 3ms/step - loss: 3.9718e-05 - accuracy: 1.0000 - val_loss: 4.0669e-10 - val_accuracy: 1.0000\n",
      "Epoch 20/20\n",
      "9402/9402 [==============================] - 27s 3ms/step - loss: 6.2633e-06 - accuracy: 1.0000 - val_loss: 4.8257e-10 - val_accuracy: 1.0000\n"
     ]
    },
    {
     "data": {
      "image/png": "[encoded data removed]",
      "text/plain": [
       "<Figure size 1200x400 with 2 Axes>"
      ]
     },
     "metadata": {},
     "output_type": "display_data"
    },
    {
     "name": "stdout",
     "output_type": "stream",
     "text": [
      "46051/46051 [==============================] - 50s 1ms/step - loss: 4.5524e-04 - accuracy: 1.0000\n",
      "Test Loss: 0.00045524266897700727\n",
      "Test Accuracy: 0.9999986290931702\n",
      "46051/46051 [==============================] - 46s 986us/step\n",
      "Accuracy on test set: 0.9999986427851135\n"
     ]
    }
   ],
   "source": [
    "import tensorflow as tf\n",
    "from tensorflow.keras.models import Sequential\n",
    "from tensorflow.keras.layers import Dense, Dropout, Flatten\n",
    "from sklearn.metrics import accuracy_score\n",
    "import matplotlib.pyplot as plt\n",
    "\n",
    "def create_nn_model(input_shape=(20,)):\n",
    "    model = Sequential([\n",
    "        Flatten(input_shape=input_shape),\n",
    "        Dense(128, activation='relu'),\n",
    "        Dropout(0.5),\n",
    "        Dense(64, activation='relu'),\n",
    "        Dropout(0.5),\n",
    "        Dense(1, activation='sigmoid')\n",
    "    ])\n",
    "\n",
    "    model.compile(optimizer='adam',\n",
    "                  loss='binary_crossentropy',\n",
    "                  metrics=['accuracy'])\n",
    "\n",
    "    return model\n",
    "\n",
    "def plot_metrics(history):\n",
    "    plt.figure(figsize=(12, 4))\n",
    "\n",
    "    # Plot training & validation accuracy values\n",
    "    plt.subplot(1, 2, 1)\n",
    "    plt.plot(history.history['accuracy'], label='Train Accuracy')\n",
    "    plt.plot(history.history['val_accuracy'], label='Validation Accuracy')\n",
    "    plt.title('Model accuracy')\n",
    "    plt.xlabel('Epoch')\n",
    "    plt.ylabel('Accuracy')\n",
    "    plt.legend()\n",
    "\n",
    "    # Plot training & validation loss values\n",
    "    plt.subplot(1, 2, 2)\n",
    "    plt.plot(history.history['loss'], label='Train Loss')\n",
    "    plt.plot(history.history['val_loss'], label='Validation Loss')\n",
    "    plt.title('Model loss')\n",
    "    plt.xlabel('Epoch')\n",
    "    plt.ylabel('Loss')\n",
    "    plt.legend()\n",
    "\n",
    "    plt.tight_layout()\n",
    "    plt.show()\n",
    "\n",
    "# Create the NN model\n",
    "nn_model = create_nn_model(input_shape=(20,))\n",
    "\n",
    "# Display model summary\n",
    "nn_model.summary()\n",
    "\n",
    "# Reshape the data for NN input\n",
    "X_train_reshaped = X_train_20features_std.reshape(-1, 20)\n",
    "X_test_reshaped = X_test_20features_std.reshape(-1, 20)\n",
    "\n",
    "# Train the model with early stopping\n",
    "history = nn_model.fit(X_train_reshaped, y_train_20features, epochs=20, batch_size=256,\n",
    "                    validation_split=0.3)\n",
    "\n",
    "# Plot accuracy and loss graphs\n",
    "plot_metrics(history)\n",
    "\n",
    "# Evaluate the model\n",
    "loss, accuracy = nn_model.evaluate(X_test_reshaped, y_test_20features)\n",
    "print(f'Test Loss: {loss}')\n",
    "print(f'Test Accuracy: {accuracy}')\n",
    "\n",
    "# Make predictions\n",
    "y_pred = (nn_model.predict(X_test_reshaped) > 0.5).astype(\"int32\")\n",
    "\n",
    "# Calculate accuracy on test set\n",
    "test_accuracy = accuracy_score(y_test_20features, y_pred)\n",
    "print(f'Accuracy on test set: {test_accuracy}')\n"
   ]
  },
  {
   "cell_type": "code",
   "execution_count": 24,
   "metadata": {
    "collapsed": false,
    "pycharm": {
     "name": "#%%\n"
    }
   },
   "outputs": [
    {
     "name": "stdout",
     "output_type": "stream",
     "text": [
      "46051/46051 [==============================] - 53s 1ms/step\n"
     ]
    },
    {
     "data": {
      "image/png": "[encoded data removed]",
      "text/plain": [
       "<Figure size 800x600 with 1 Axes>"
      ]
     },
     "metadata": {},
     "output_type": "display_data"
    }
   ],
   "source": [
    "from sklearn.metrics import confusion_matrix\n",
    "import seaborn as sns\n",
    "y_pred = (nn_model.predict(X_test_reshaped) > 0.5).astype(\"int32\")\n",
    "\n",
    "cm = confusion_matrix(y_test_20features, y_pred)\n",
    "plt.figure(figsize=(8, 6))\n",
    "sns.heatmap(cm, annot=True, fmt='d', cmap='Blues', cbar=False)\n",
    "plt.title('Confusion Matrix')\n",
    "plt.xlabel('Predicted Labels')\n",
    "plt.ylabel('True Labels')\n",
    "plt.show()"
   ]
  },
  {
   "cell_type": "code",
   "execution_count": 25,
   "metadata": {
    "collapsed": false,
    "pycharm": {
     "name": "#%%\n"
    }
   },
   "outputs": [
    {
     "name": "stdout",
     "output_type": "stream",
     "text": [
      "Precision: 0.9999986418708501\n",
      "Recall: 1.0\n",
      "F1 Score: 0.9999993209349639\n"
     ]
    }
   ],
   "source": [
    "from sklearn.metrics import precision_score, recall_score, f1_score\n",
    "precision = precision_score(y_test_20features, y_pred)\n",
    "recall = recall_score(y_test_20features, y_pred)\n",
    "f1 = f1_score(y_test_20features, y_pred)\n",
    "print(f'Precision: {precision}')\n",
    "print(f'Recall: {recall}')\n",
    "print(f'F1 Score: {f1}')"
   ]
  },
  {
   "cell_type": "code",
   "execution_count": 26,
   "metadata": {
    "collapsed": false,
    "pycharm": {
     "name": "#%%\n"
    }
   },
   "outputs": [
    {
     "name": "stdout",
     "output_type": "stream",
     "text": [
      "              precision    recall  f1-score   support\n",
      "\n",
      "           0       1.00      1.00      1.00       994\n",
      "           1       1.00      1.00      1.00   1472612\n",
      "\n",
      "    accuracy                           1.00   1473606\n",
      "   macro avg       1.00      1.00      1.00   1473606\n",
      "weighted avg       1.00      1.00      1.00   1473606\n",
      "\n"
     ]
    }
   ],
   "source": [
    "from sklearn.metrics import classification_report\n",
    "print(classification_report(y_test_20features, y_pred))"
   ]
  }
 ],
 "metadata": {
  "kernelspec": {
   "display_name": "Python 3",
   "language": "python",
   "name": "python3"
  },
  "language_info": {
   "codemirror_mode": {
    "name": "ipython",
    "version": 2
   },
   "file_extension": ".py",
   "mimetype": "text/x-python",
   "name": "python",
   "nbconvert_exporter": "python",
   "pygments_lexer": "ipython2",
   "version": "2.7.6"
  }
 },
 "nbformat": 4,
 "nbformat_minor": 0
}
